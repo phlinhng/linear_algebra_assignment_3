{
 "cells": [
  {
   "cell_type": "code",
   "execution_count": 1,
   "metadata": {},
   "outputs": [],
   "source": [
    "# Linear Algebra 2018 Assignment 3\n",
    "\n",
    "import numpy as np\n",
    "import matplotlib.pyplot as plt\n",
    "import math as m"
   ]
  },
  {
   "cell_type": "code",
   "execution_count": 14,
   "metadata": {},
   "outputs": [],
   "source": [
    "# 8 points of a cube\n",
    "points = np.array([[ 0, 0, 0, 0, 1, 1, 1, 1],\n",
    "                   [ 0, 0, 2, 1, 0, 0, 1, 1],\n",
    "                   [ 0, 1, 0, 1, 0, 1, 0, 1]])"
   ]
  },
  {
   "cell_type": "code",
   "execution_count": 15,
   "metadata": {},
   "outputs": [],
   "source": [
    "def plotcube(pt):\n",
    "    \"\"\"plot a cube described by pt. \n",
    "       T is the transition matrix that maps objects from a 3D space to a 2D screen.\n",
    "       The viewport is at [1/2, 1/2, sqrt(2)/2]\"\"\"\n",
    "    T = np.array([[m.sqrt(2)/m.sqrt(3), 0, -1/m.sqrt(3)],\n",
    "                  [-1/m.sqrt(12),  m.sqrt(3)/2, -1/m.sqrt(6)]])"
   ]
  },
  {
   "cell_type": "code",
   "execution_count": 16,
   "metadata": {},
   "outputs": [],
   "source": [
    "    def drawAxis():\n",
    "        \"\"\" draw the axes of the 3D space\"\"\"\n",
    "        X = np.dot(T, [[0,1.5],[0,0],[0,0]])\n",
    "        Y = np.dot(T, [[0,0],[0,1.5],[0,0]])\n",
    "        Z = np.dot(T, [[0,0],[0,0],[0,1.5]])\n",
    "        plt.plot(X[0,:], X[1,:], 'b:')\n",
    "        plt.plot(Y[0,:], Y[1,:], 'b:')\n",
    "        plt.plot(Z[0,:], Z[1,:], 'b:')\n",
    "        plt.text(X[0,1], X[1,1], r'x', fontsize=20)\n",
    "        plt.text(Y[0,1], Y[1,1], r'y', fontsize=20)\n",
    "        plt.text(Z[0,1]-0.1, Z[1,1], r'z', fontsize=20)"
   ]
  },
  {
   "cell_type": "code",
   "execution_count": 17,
   "metadata": {},
   "outputs": [],
   "source": [
    "def mapRectangle(p1, p2, p3, p4):\n",
    "        \"\"\"return two 1D arrays: X list and Y list from\n",
    "           points[:, p1], points[:,p2], points[:, p3], points[:, p4]\"\"\"\n",
    "        A = np.dot(T, points[:, [p1,p2,p3,p4,p1]])\n",
    "        return A[0,:], A[1,:]"
   ]
  },
  {
   "cell_type": "code",
   "execution_count": 18,
   "metadata": {},
   "outputs": [
    {
     "ename": "IndentationError",
     "evalue": "unexpected indent (<ipython-input-18-881a89b7fecb>, line 2)",
     "output_type": "error",
     "traceback": [
      "\u001b[0;36m  File \u001b[0;32m\"<ipython-input-18-881a89b7fecb>\"\u001b[0;36m, line \u001b[0;32m2\u001b[0m\n\u001b[0;31m    X1, Y1 = mapRectangle(0, 1, 3, 2)\u001b[0m\n\u001b[0m    ^\u001b[0m\n\u001b[0;31mIndentationError\u001b[0m\u001b[0;31m:\u001b[0m unexpected indent\n"
     ]
    }
   ],
   "source": [
    "# plot face 1\n",
    "    X1, Y1 = mapRectangle(0, 1, 3, 2)\n",
    "    print(X1, Y1)\n",
    "    if(visible(0, 1, 3)):\n",
    "        plt.plot(X1,Y1)"
   ]
  },
  {
   "cell_type": "code",
   "execution_count": 19,
   "metadata": {},
   "outputs": [
    {
     "ename": "IndentationError",
     "evalue": "unexpected indent (<ipython-input-19-83668955d1c8>, line 2)",
     "output_type": "error",
     "traceback": [
      "\u001b[0;36m  File \u001b[0;32m\"<ipython-input-19-83668955d1c8>\"\u001b[0;36m, line \u001b[0;32m2\u001b[0m\n\u001b[0;31m    X2, Y2 = mapRectangle(4, 6, 7, 5)\u001b[0m\n\u001b[0m    ^\u001b[0m\n\u001b[0;31mIndentationError\u001b[0m\u001b[0;31m:\u001b[0m unexpected indent\n"
     ]
    }
   ],
   "source": [
    "# plot face 2\n",
    "    X2, Y2 = mapRectangle(4, 6, 7, 5)\n",
    "    if(visible(4, 6, 7)):\n",
    "        plt.plot(X2,Y2)"
   ]
  },
  {
   "cell_type": "code",
   "execution_count": 20,
   "metadata": {},
   "outputs": [
    {
     "ename": "IndentationError",
     "evalue": "unexpected indent (<ipython-input-20-5aa678f5a966>, line 2)",
     "output_type": "error",
     "traceback": [
      "\u001b[0;36m  File \u001b[0;32m\"<ipython-input-20-5aa678f5a966>\"\u001b[0;36m, line \u001b[0;32m2\u001b[0m\n\u001b[0;31m    X3, Y3 = mapRectangle(0, 2, 6, 4)\u001b[0m\n\u001b[0m    ^\u001b[0m\n\u001b[0;31mIndentationError\u001b[0m\u001b[0;31m:\u001b[0m unexpected indent\n"
     ]
    }
   ],
   "source": [
    "# plot face 3\n",
    "    X3, Y3 = mapRectangle(0, 2, 6, 4)\n",
    "    if (visible(0, 2, 6)):\n",
    "        plt.plot(X3,Y3)"
   ]
  },
  {
   "cell_type": "code",
   "execution_count": 21,
   "metadata": {},
   "outputs": [
    {
     "ename": "IndentationError",
     "evalue": "unexpected indent (<ipython-input-21-10c000607f51>, line 2)",
     "output_type": "error",
     "traceback": [
      "\u001b[0;36m  File \u001b[0;32m\"<ipython-input-21-10c000607f51>\"\u001b[0;36m, line \u001b[0;32m2\u001b[0m\n\u001b[0;31m    X4, Y4 = mapRectangle(1, 5, 7, 3)\u001b[0m\n\u001b[0m    ^\u001b[0m\n\u001b[0;31mIndentationError\u001b[0m\u001b[0;31m:\u001b[0m unexpected indent\n"
     ]
    }
   ],
   "source": [
    "# plot face 4\n",
    "    X4, Y4 = mapRectangle(1, 5, 7, 3)\n",
    "    if(visible(1, 5, 7)):\n",
    "        plt.plot(X4,Y4)"
   ]
  },
  {
   "cell_type": "code",
   "execution_count": 22,
   "metadata": {},
   "outputs": [
    {
     "ename": "IndentationError",
     "evalue": "unexpected indent (<ipython-input-22-edd83a27b985>, line 2)",
     "output_type": "error",
     "traceback": [
      "\u001b[0;36m  File \u001b[0;32m\"<ipython-input-22-edd83a27b985>\"\u001b[0;36m, line \u001b[0;32m2\u001b[0m\n\u001b[0;31m    X5, Y5 = mapRectangle(0, 4, 5, 1)\u001b[0m\n\u001b[0m    ^\u001b[0m\n\u001b[0;31mIndentationError\u001b[0m\u001b[0;31m:\u001b[0m unexpected indent\n"
     ]
    }
   ],
   "source": [
    "# plot face 5\n",
    "    X5, Y5 = mapRectangle(0, 4, 5, 1)\n",
    "    if(visible(0, 4, 5)):\n",
    "        plt.plot(X5,Y5)"
   ]
  },
  {
   "cell_type": "code",
   "execution_count": 23,
   "metadata": {},
   "outputs": [
    {
     "ename": "IndentationError",
     "evalue": "unexpected indent (<ipython-input-23-994e6a84e80c>, line 2)",
     "output_type": "error",
     "traceback": [
      "\u001b[0;36m  File \u001b[0;32m\"<ipython-input-23-994e6a84e80c>\"\u001b[0;36m, line \u001b[0;32m2\u001b[0m\n\u001b[0;31m    X6, Y6 = mapRectangle(2, 3, 7, 6)\u001b[0m\n\u001b[0m    ^\u001b[0m\n\u001b[0;31mIndentationError\u001b[0m\u001b[0;31m:\u001b[0m unexpected indent\n"
     ]
    }
   ],
   "source": [
    "# plot face 6\n",
    "    X6, Y6 = mapRectangle(2, 3, 7, 6)\n",
    "    if(visible(2, 3, 7)):\n",
    "        plt.plot(X6,Y6)"
   ]
  },
  {
   "cell_type": "code",
   "execution_count": 24,
   "metadata": {},
   "outputs": [
    {
     "ename": "IndentationError",
     "evalue": "unexpected indent (<ipython-input-24-129c2eaa1768>, line 2)",
     "output_type": "error",
     "traceback": [
      "\u001b[0;36m  File \u001b[0;32m\"<ipython-input-24-129c2eaa1768>\"\u001b[0;36m, line \u001b[0;32m2\u001b[0m\n\u001b[0;31m    drawAxis()\u001b[0m\n\u001b[0m    ^\u001b[0m\n\u001b[0;31mIndentationError\u001b[0m\u001b[0;31m:\u001b[0m unexpected indent\n"
     ]
    }
   ],
   "source": [
    "plt.axis('equal')\n",
    "    drawAxis()\n",
    "    plt.show()"
   ]
  },
  {
   "cell_type": "code",
   "execution_count": 25,
   "metadata": {},
   "outputs": [],
   "source": [
    "# ----------- the main body ----------------------"
   ]
  },
  {
   "cell_type": "code",
   "execution_count": 26,
   "metadata": {},
   "outputs": [],
   "source": [
    "r1 = np.array([[m.sqrt(3)/2, 1/2, 0],\n",
    "                   [-1/2, m.sqrt(3)/2, 0],\n",
    "                   [0, 0, 1]])\n",
    "\n",
    "#points = np.dot(r1, points)\n",
    "\n",
    "r2 = np.array([[1, 0, 0],\n",
    "               [0, 3, 0],\n",
    "               [0, 0, 1]])\n",
    "\n",
    "#points = np.dot(r2, points)\n",
    "\n",
    "plotcube(points)"
   ]
  },
  {
   "cell_type": "code",
   "execution_count": null,
   "metadata": {},
   "outputs": [],
   "source": []
  }
 ],
 "metadata": {
  "kernelspec": {
   "display_name": "Python 3",
   "language": "python",
   "name": "python3"
  },
  "language_info": {
   "codemirror_mode": {
    "name": "ipython",
    "version": 3
   },
   "file_extension": ".py",
   "mimetype": "text/x-python",
   "name": "python",
   "nbconvert_exporter": "python",
   "pygments_lexer": "ipython3",
   "version": "3.7.1"
  }
 },
 "nbformat": 4,
 "nbformat_minor": 2
}
